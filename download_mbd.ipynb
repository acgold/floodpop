{
 "cells": [
  {
   "cell_type": "markdown",
   "metadata": {},
   "source": [
    "# Download Microsoft Buildings (US release)"
   ]
  },
  {
   "cell_type": "code",
   "execution_count": null,
   "metadata": {},
   "outputs": [],
   "source": [
    "import arcpy\n",
    "from arcpy.sa import *\n",
    "import pandas as pd\n",
    "import numpy as np\n",
    "import os\n",
    "import urllib.request\n",
    "import zipfile\n",
    "\n",
    "from arcgis.features import GeoAccessor, GeoSeriesAccessor\n",
    "\n",
    "data_path = \"your_path_here\"\n",
    "scratch_gdb = \"your_scratch_path_here\"\n",
    "\n",
    "arcpy.env.workspace = data_path\n",
    "arcpy.env.overwriteOutput = True\n",
    "arcpy.env.outputCoordinateSystem = None\n",
    "arcpy.env.parallelProcessingFactor = \"100%\""
   ]
  },
  {
   "cell_type": "code",
   "execution_count": null,
   "metadata": {},
   "outputs": [],
   "source": [
    "states_dict = {\n",
    "    \"Alabama\": \"AL\",\n",
    "    \"Alaska\": \"AK\",\n",
    "    \"Arizona\": \"AZ\",\n",
    "    \"Arkansas\": \"AR\",\n",
    "    \"California\": \"CA\",\n",
    "    \"Colorado\": \"CO\",\n",
    "    \"Connecticut\": \"CT\",\n",
    "    \"Delaware\": \"DE\",\n",
    "    \"DistrictofColumbia\": \"DC\",\n",
    "    \"Florida\": \"FL\",\n",
    "    \"Georgia\": \"GA\",\n",
    "    \"Hawaii\": \"HI\",\n",
    "    \"Idaho\": \"ID\",\n",
    "    \"Illinois\": \"IL\",\n",
    "    \"Indiana\": \"IN\",\n",
    "    \"Iowa\": \"IA\",\n",
    "    \"Kansas\": \"KS\",\n",
    "    \"Kentucky\": \"KY\",\n",
    "    \"Louisiana\": \"LA\",\n",
    "    \"Maine\": \"ME\",\n",
    "    \"Maryland\": \"MD\",\n",
    "    \"Massachusetts\": \"MA\",\n",
    "    \"Michigan\": \"MI\",\n",
    "    \"Minnesota\": \"MN\",\n",
    "    \"Mississippi\": \"MS\",\n",
    "    \"Missouri\": \"MO\",\n",
    "    \"Montana\": \"MT\",\n",
    "    \"Nebraska\": \"NE\",\n",
    "    \"Nevada\": \"NV\",\n",
    "    \"NewHampshire\": \"NH\",\n",
    "    \"NewJersey\": \"NJ\",\n",
    "    \"NewMexico\": \"NM\",\n",
    "    \"NewYork\": \"NY\",\n",
    "    \"NorthCarolina\": \"NC\",\n",
    "    \"NorthDakota\": \"ND\",\n",
    "    \"Ohio\": \"OH\",\n",
    "    \"Oklahoma\": \"OK\",\n",
    "    \"Oregon\": \"OR\",\n",
    "    \"Pennsylvania\": \"PA\",\n",
    "    \"RhodeIsland\": \"RI\",\n",
    "    \"SouthCarolina\": \"SC\",\n",
    "    \"SouthDakota\": \"SD\",\n",
    "    \"Tennessee\": \"TN\",\n",
    "    \"Texas\": \"TX\",\n",
    "    \"Utah\": \"UT\",\n",
    "    \"Vermont\": \"VT\",\n",
    "    \"Virginia\": \"VA\",\n",
    "    \"Washington\": \"WA\",\n",
    "    \"WestVirginia\": \"WV\",\n",
    "    \"Wisconsin\": \"WI\",\n",
    "    \"Wyoming\": \"WY\"\n",
    "}"
   ]
  },
  {
   "cell_type": "markdown",
   "metadata": {},
   "source": [
    "## Download all Microsoft Building Footprints"
   ]
  },
  {
   "cell_type": "code",
   "execution_count": null,
   "metadata": {},
   "outputs": [],
   "source": [
    "# Base URL for the downloads\n",
    "base_url = \"https://minedbuildings.z5.web.core.windows.net/legacy/usbuildings-v2/\" \n",
    "\n",
    "# List of states \n",
    "states = list(states_dict.keys())\n",
    "\n",
    "# Location to save the files\n",
    "location = os.path.join(data_path, \"microsoft_buildings/microsoft_buildings_zipped\")\n",
    "os.makedirs(location, exist_ok=True)"
   ]
  },
  {
   "cell_type": "code",
   "execution_count": null,
   "metadata": {},
   "outputs": [],
   "source": [
    "# Loop through the states and download the files\n",
    "for i in states:\n",
    "    print(i)\n",
    "    \n",
    "    # Construct the URL for the download\n",
    "    url = f\"{base_url}{i}.geojson.zip\"\n",
    "    \n",
    "    # Construct the file path to save the downloaded file\n",
    "    file_path = os.path.join(location, f\"{i}.zip\")\n",
    "    \n",
    "    try:\n",
    "        # Download the file\n",
    "        urllib.request.urlretrieve(url, file_path)\n",
    "        print(f\"Downloaded {i}\")\n",
    "    except Exception as e:\n",
    "        # If there's an error, print it and continue\n",
    "        print(f\"Failed to download {url}: {e}\")"
   ]
  },
  {
   "cell_type": "markdown",
   "metadata": {},
   "source": [
    "## Unzip the buildings"
   ]
  },
  {
   "cell_type": "code",
   "execution_count": null,
   "metadata": {},
   "outputs": [],
   "source": [
    "unzipped_folder = os.path.join(data_path, \"microsoft_buildings/microsoft_buildings_unzipped\")  \n",
    "os.makedirs(unzipped_folder, exist_ok=True)\n",
    "\n",
    "# Loop through each ZIP file in the folder\n",
    "for zip_filename in os.listdir(location):\n",
    "    if zip_filename.endswith(\".zip\"):\n",
    "        zip_path = os.path.join(location, zip_filename)\n",
    "        \n",
    "        # Create a new folder to extract to (named after the zip file without the extension)\n",
    "        extract_folder = os.path.join(unzipped_folder, os.path.splitext(zip_filename)[0])\n",
    "        os.makedirs(extract_folder, exist_ok=True)\n",
    "        \n",
    "        try:\n",
    "            # Extract the ZIP file to the new folder\n",
    "            with zipfile.ZipFile(zip_path, 'r') as zip_ref:\n",
    "                zip_ref.extractall(extract_folder)\n",
    "            print(f\"Successfully extracted: {zip_filename}\")\n",
    "        except Exception as e:\n",
    "            print(f\"Failed to extract {zip_filename}: {e}\")"
   ]
  },
  {
   "cell_type": "markdown",
   "metadata": {},
   "source": [
    "## Process and add to GDB"
   ]
  },
  {
   "cell_type": "code",
   "execution_count": null,
   "metadata": {},
   "outputs": [],
   "source": [
    "# Folder containing the geojson files\n",
    "input_folder = os.path.join(data_path, \"microsoft_buildings/microsoft_buildings_unzipped\")\n",
    "\n",
    "# Geodatabase to store the exported feature classes\n",
    "output_gdb = os.path.join(data_path, \"microsoft_buildings/microsoft_buildings.gdb\") \n",
    "arcpy.env.workspace = output_gdb\n",
    "\n",
    "\n",
    "# Use arcpy.da.Walk() to iterate through the subfolders and locate all geojson files. Just remove filename filter if needed - helpful if you stop and restart\n",
    "for dirpath, dirnames, filenames in os.walk(input_folder):\n",
    "    for filename in filenames:\n",
    "        if filename.endswith(\".geojson\"): \n",
    "            # Full path to the GeoPackage file\n",
    "            geojson_path = os.path.join(dirpath, filename)\n",
    "\n",
    "            state_abbreviation = states_dict[os.path.splitext(filename)[0]]\n",
    "            print(f\"Working on {state_abbreviation}\")\n",
    "            \n",
    "            output_json = os.path.join(scratch_gdb, \"mbd_unproj\")\n",
    "            arcpy.conversion.JSONToFeatures(geojson_path, output_json, \"POLYGON\")\n",
    "\n",
    "            print(f\"- Converted {state_abbreviation} to feature class\")\n",
    "            \n",
    "            output_fc = os.path.join(output_gdb, state_abbreviation+\"_mbd\")\n",
    "            arcpy.management.Project(output_json, output_fc, arcpy.SpatialReference(\"USA Contiguous Albers Equal Area Conic USGS\"))\n",
    "            arcpy.management.RepairGeometry(output_fc)\n",
    "            print(f\"- Projected and repaired {filename} to {output_fc}\")"
   ]
  }
 ],
 "metadata": {
  "kernelspec": {
   "display_name": "ArcGISPro",
   "language": "python",
   "name": "python3"
  },
  "language_info": {
   "file_extension": ".py",
   "mimetype": "text/x-python",
   "name": "python",
   "version": "3.11.10"
  }
 },
 "nbformat": 4,
 "nbformat_minor": 4
}
